{
 "cells": [
  {
   "cell_type": "code",
   "execution_count": 34,
   "metadata": {},
   "outputs": [],
   "source": [
    "import cv2\n",
    "import numpy as np"
   ]
  },
  {
   "cell_type": "code",
   "execution_count": 35,
   "metadata": {},
   "outputs": [],
   "source": [
    "# Load YOLO model\n",
    "weights_path = \"yolov3.weights\"  # Path to weights file\n",
    "config_path = \"yolov3.cfg\"       # Path to configuration file\n",
    "labels_path = \"coco.names\"       # Path to COCO dataset labels\n"
   ]
  },
  {
   "cell_type": "code",
   "execution_count": 36,
   "metadata": {},
   "outputs": [],
   "source": [
    "# Load labels\n",
    "with open(labels_path, \"r\") as f:\n",
    "    labels = f.read().strip().split(\"\\n\")\n"
   ]
  },
  {
   "cell_type": "code",
   "execution_count": 37,
   "metadata": {},
   "outputs": [],
   "source": [
    "# Initialize the network\n",
    "net = cv2.dnn.readNetFromDarknet(config_path, weights_path)\n",
    "# output_layer_names = [net.getLayerNames()[i[0] - 1] for i in net.getUnconnectedOutLayers()]\n"
   ]
  },
  {
   "cell_type": "code",
   "execution_count": 38,
   "metadata": {},
   "outputs": [],
   "source": [
    "layer_names = net.getLayerNames()\n",
    "unconnected_out_layers = net.getUnconnectedOutLayers()"
   ]
  },
  {
   "cell_type": "code",
   "execution_count": 39,
   "metadata": {},
   "outputs": [],
   "source": [
    "if len(unconnected_out_layers) == 1:\n",
    "    for i in unconnected_out_layers:\n",
    "        index = i - 1\n",
    "        print(f\"Index (if): {index}\")\n",
    "        output_layer_names = [layer_names[index]] # Access directly since it's a single element\n",
    "else:\n",
    "    output_layer_names = []\n",
    "    for i in unconnected_out_layers:\n",
    "    # If 'i' is a list or array (OpenCV <= 3.x or 4.x)\n",
    "     if hasattr(i, \"__len__\") and len(i) > 0:\n",
    "        index = i[0] - 1\n",
    "     else:\n",
    "        # If 'i' is a scalar (OpenCV >= 4.5.x)\n",
    "        index = i - 1"
   ]
  },
  {
   "cell_type": "code",
   "execution_count": null,
   "metadata": {},
   "outputs": [
    {
     "name": "stdout",
     "output_type": "stream",
     "text": [
      "Length of unconnected_out_layers: 3\n",
      "Type of unconnected_out_layers: <class 'numpy.ndarray'>\n",
      "Value of unconnected_out_layers: [200 227 254]\n",
      "Type of first element: <class 'numpy.int32'>\n",
      "Output layer names: []\n"
     ]
    }
   ],
   "source": [
    "print(f\"Length of unconnected_out_layers: {len(unconnected_out_layers)}\")\n",
    "print(f\"Type of unconnected_out_layers: {type(unconnected_out_layers)}\")\n",
    "print(f\"Value of unconnected_out_layers: {unconnected_out_layers}\")\n",
    "\n",
    "if len(unconnected_out_layers) == 1:\n",
    "    print(\"--- Inside if block ---\")\n",
    "    print(f\"Type of first element: {type(unconnected_out_layers[0]) if unconnected_out_layers else None}\")\n",
    "    output_layer_names = [layer_names[i - 1] for i in unconnected_out_layers]\n",
    "else:\n",
    "    print(\"--- Inside else block ---\")\n",
    "    print(f\"Type of first element: {type(unconnected_out_layers[0]) if unconnected_out_layers.size > 0 else None}\")\n",
    "    # Print the type of the inner element if it's a list or tuple\n",
    "    if unconnected_out_layers and isinstance(unconnected_out_layers[0], (list, tuple)):\n",
    "        print(f\"Type of first element of the inner element: {type(unconnected_out_layers[0][0])}\")\n",
    "    output_layer_names = [layer_names[i[0] - 1] for i in unconnected_out_layers]\n",
    "\n",
    "print(f\"Output layer names: {output_layer_names}\")"
   ]
  },
  {
   "cell_type": "code",
   "execution_count": null,
   "metadata": {},
   "outputs": [],
   "source": []
  },
  {
   "cell_type": "code",
   "execution_count": null,
   "metadata": {},
   "outputs": [],
   "source": []
  }
 ],
 "metadata": {
  "kernelspec": {
   "display_name": "Python 3",
   "language": "python",
   "name": "python3"
  },
  "language_info": {
   "codemirror_mode": {
    "name": "ipython",
    "version": 3
   },
   "file_extension": ".py",
   "mimetype": "text/x-python",
   "name": "python",
   "nbconvert_exporter": "python",
   "pygments_lexer": "ipython3",
   "version": "3.10.0"
  }
 },
 "nbformat": 4,
 "nbformat_minor": 2
}
